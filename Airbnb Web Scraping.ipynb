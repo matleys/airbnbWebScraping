{
  "nbformat": 4,
  "nbformat_minor": 0,
  "metadata": {
    "colab": {
      "name": "Untitled7.ipynb",
      "provenance": []
    },
    "kernelspec": {
      "name": "python3",
      "display_name": "Python 3"
    }
  },
  "cells": [
    {
      "cell_type": "markdown",
      "metadata": {
        "id": "ODkbjKJtcXJ-"
      },
      "source": [
        "# **Airbnb Web Scraping**"
      ]
    },
    {
      "cell_type": "markdown",
      "metadata": {
        "id": "O6rZYSdncmDR"
      },
      "source": [
        "**Imports and initializations**"
      ]
    },
    {
      "cell_type": "code",
      "metadata": {
        "id": "o1LYEvbuc1tM"
      },
      "source": [
        "import requests as rq\n",
        "import bs4\n",
        "import pandas as pd"
      ],
      "execution_count": 1,
      "outputs": []
    },
    {
      "cell_type": "code",
      "metadata": {
        "id": "YOGadJpccTp0"
      },
      "source": [
        "url = \"https://www.airbnb.com/s/Bali--Indonesia/homes?tab_id=home_tab&refinement_paths%5B%5D=%2Fhomes&query=Bali%2C%20Indonesia&place_id=ChIJoQ8Q6NNB0S0RkOYkS7EPkSQ&checkin=2020-12-29&checkout=2021-01-03&source=structured_search_input_header&search_type=autocomplete_click\""
      ],
      "execution_count": 2,
      "outputs": []
    },
    {
      "cell_type": "markdown",
      "metadata": {
        "id": "UceMUbyoc7Wy"
      },
      "source": [
        "Targeted get functions"
      ]
    },
    {
      "cell_type": "code",
      "metadata": {
        "id": "IwgeWaJec62_"
      },
      "source": [
        "def get_page(url):\n",
        "    response = rq.get(url).text\n",
        "    return bs4.BeautifulSoup(response, 'html.parser')"
      ],
      "execution_count": 3,
      "outputs": []
    },
    {
      "cell_type": "code",
      "metadata": {
        "id": "_fyZP3wIdBs7"
      },
      "source": [
        "def get_listings(soup):\n",
        "    listingsType = \"div\"\n",
        "    listingsClass = \"itemListElement\"\n",
        "    return soup.find_all(listingsType, {\"itemprop\": listingsClass})"
      ],
      "execution_count": 4,
      "outputs": []
    },
    {
      "cell_type": "code",
      "metadata": {
        "id": "BO6DM55-dF1c"
      },
      "source": [
        "def get_listing_title(listing):\n",
        "    titleType = \"div\"\n",
        "    titleClass = \"_bzh5lkq\"\n",
        "    if(listing.find(titleType, {\"class\": titleClass}) == None):\n",
        "        return None\n",
        "    else:\n",
        "        return listing.find(titleType, {\"class\": titleClass}).text"
      ],
      "execution_count": 5,
      "outputs": []
    },
    {
      "cell_type": "code",
      "metadata": {
        "id": "EHynmwT0dH7Y"
      },
      "source": [
        "def get_listing_subtitle(listing):\n",
        "    subtitleType = \"div\"\n",
        "    subtitleClass = \"_167qordg\"\n",
        "    if(listing.find(subtitleType, {\"class\": subtitleClass}) == None):\n",
        "        return None\n",
        "    else:\n",
        "        return listing.find(subtitleType, {\"class\": subtitleClass}).text"
      ],
      "execution_count": 6,
      "outputs": []
    },
    {
      "cell_type": "code",
      "metadata": {
        "id": "gxGaBiG6dKSW"
      },
      "source": [
        "def get_listing_info(listing):\n",
        "    infoType = \"div\"\n",
        "    infoClass = \"_kqh46o\"\n",
        "    try:\n",
        "        all_info = listing.find_all(infoType, {\"class\": infoClass})\n",
        "        for info in all_info:\n",
        "            if(\"guest\" in info.text):\n",
        "                return info.text\n",
        "        return None\n",
        "    except:\n",
        "        return None"
      ],
      "execution_count": 7,
      "outputs": []
    },
    {
      "cell_type": "code",
      "metadata": {
        "id": "EoGM0DyFdLBL"
      },
      "source": [
        "def get_listing_ammenities(listing):\n",
        "    ammType = \"div\"\n",
        "    ammClass = \"_kqh46o\"\n",
        "    try:\n",
        "        all_info = listing.find_all(ammType, {\"class\": ammClass})\n",
        "        if(len(all_info) > 1):\n",
        "            return all_info[1].text\n",
        "        else:\n",
        "            return None\n",
        "    except:\n",
        "        return None"
      ],
      "execution_count": 8,
      "outputs": []
    },
    {
      "cell_type": "code",
      "metadata": {
        "id": "ZA5i952DdNoc"
      },
      "source": [
        "def get_listing_rating(listing):\n",
        "    reviewType = \"span\"\n",
        "    reviewClass = \"_krjbj\"\n",
        "    try:\n",
        "        all_review_info = listing.find_all(reviewType, {\"class\": reviewClass})\n",
        "        for info in all_review_info:\n",
        "            if(\"Rating\" in info.text):\n",
        "                return float(info.text.split(\" \")[1])\n",
        "        return None\n",
        "    except:\n",
        "        return None"
      ],
      "execution_count": 9,
      "outputs": []
    },
    {
      "cell_type": "code",
      "metadata": {
        "id": "EmeGB_a3dPv2"
      },
      "source": [
        "def get_listing_reviews(listing):\n",
        "    reviewType = \"span\"\n",
        "    reviewClass = \"_krjbj\"\n",
        "    try:\n",
        "        all_review_info = listing.find_all(reviewType, {\"class\": reviewClass})\n",
        "        for info in all_review_info:\n",
        "            if(\" review\" in info.text):\n",
        "                return int(info.text.split(\" \")[0])\n",
        "        return None\n",
        "    except:\n",
        "        return None"
      ],
      "execution_count": 10,
      "outputs": []
    },
    {
      "cell_type": "code",
      "metadata": {
        "id": "zd-RErv7dR8c"
      },
      "source": [
        "def get_listing_price_per_night(listing):\n",
        "    priceType = \"div\"\n",
        "    priceClass = \"_1fwiw8gv\"  \n",
        "    try:\n",
        "        all_price_info = listing.find_all(priceType, {\"class\": priceClass})\n",
        "        for info in all_price_info:\n",
        "            infoStr = info.text\n",
        "            if(\"Previous\" in infoStr):\n",
        "                return infoStr.split(\"$\")[1].split(\"D\")[0].replace(\",\",\"\")\n",
        "            elif(\"Price\" in infoStr):\n",
        "                return infoStr.split(\"$\")[1].split(\" \")[0].replace(\",\",\"\")\n",
        "        return None\n",
        "    except:\n",
        "        return None"
      ],
      "execution_count": 11,
      "outputs": []
    },
    {
      "cell_type": "code",
      "metadata": {
        "id": "S7J2N2RcdUFx"
      },
      "source": [
        "def get_listing_total_price(listing):\n",
        "    totalType = \"button\"\n",
        "    totalClass = \"_ebe4pze\"\n",
        "    if(listing.find(totalType, {\"class\": totalClass}) == None):\n",
        "        return None\n",
        "    else:\n",
        "        return listing.find(totalType, {\"class\": totalClass}).text.split(\" \")[0].replace(\"$\",\"\").replace(\",\",\"\")"
      ],
      "execution_count": 12,
      "outputs": []
    },
    {
      "cell_type": "code",
      "metadata": {
        "id": "kihdk0s2dWQV"
      },
      "source": [
        "base_url = \"https://airbnb.com\"\n",
        "\n",
        "def find_next_page(page):\n",
        "    try:\n",
        "        return base_url + page.find(\"a\", {\"aria-label\": \"Next\"})['href']\n",
        "    except:\n",
        "        return None"
      ],
      "execution_count": 13,
      "outputs": []
    },
    {
      "cell_type": "markdown",
      "metadata": {
        "id": "zJmCogiZddVL"
      },
      "source": [
        "Retrieving info with get functions"
      ]
    },
    {
      "cell_type": "code",
      "metadata": {
        "id": "x_--PrIcdgS0"
      },
      "source": [
        "title = []\n",
        "subtitle = []\n",
        "info = []\n",
        "ammenities = []\n",
        "rating = []\n",
        "reviews = []\n",
        "price_per_night = []\n",
        "total_price = []\n",
        "\n",
        "page = get_page(url)\n",
        "morePages = True\n",
        "\n",
        "while(morePages):\n",
        "    listings = get_listings(page)\n",
        "    \n",
        "    for listing in listings:\n",
        "        title.append(get_listing_title(listing))\n",
        "        subtitle.append(get_listing_subtitle(listing))\n",
        "        info.append(get_listing_info(listing))\n",
        "        ammenities.append(get_listing_ammenities(listing))\n",
        "        rating.append(get_listing_rating(listing))\n",
        "        reviews.append(get_listing_reviews(listing))\n",
        "        price_per_night.append(get_listing_price_per_night(listing))\n",
        "        total_price.append(get_listing_total_price(listing))\n",
        "    \n",
        "    next_url = find_next_page(page)\n",
        "\n",
        "    if(next_url is None):\n",
        "        morePages = False\n",
        "    else:\n",
        "        page = get_page(next_url)"
      ],
      "execution_count": 14,
      "outputs": []
    },
    {
      "cell_type": "markdown",
      "metadata": {
        "id": "RWb7tjxydkvK"
      },
      "source": [
        "Getting more granular data"
      ]
    },
    {
      "cell_type": "code",
      "metadata": {
        "id": "t3IDde_ydhRB"
      },
      "source": [
        "guests = []\n",
        "bedrooms = []\n",
        "baths = []\n",
        "\n",
        "for i in info:\n",
        "    if(i is None):\n",
        "        guests.append(None)\n",
        "        bedrooms.append(None)\n",
        "        baths.append(None)\n",
        "    else:\n",
        "        element = i.split(\"·\")\n",
        "        noGuest, noBedroom, noBath = True, True, True\n",
        "        for word in element:\n",
        "            word = word.strip()\n",
        "            if(\"guest\" in word):\n",
        "                guests.append(int(word.split(\" \")[0]))\n",
        "                noGuest = False\n",
        "            elif(\"bedroom\" in word):\n",
        "                bedrooms.append(int(word.split(\" \")[0])) \n",
        "                noBedroom = False\n",
        "            elif(\"bath\" in word):\n",
        "                try:\n",
        "                    baths.append(float(word.split(\" \")[0]))\n",
        "                    noBath = False\n",
        "                except:\n",
        "                    baths.append(0.5)\n",
        "                    noBath = False\n",
        "        if(noGuest):\n",
        "            guests.append(None)\n",
        "        if(noBedroom):\n",
        "            bedrooms.append(None)\n",
        "        if(noBath):\n",
        "            baths.append(None)"
      ],
      "execution_count": 15,
      "outputs": []
    },
    {
      "cell_type": "code",
      "metadata": {
        "id": "0AnnGDGydnE8"
      },
      "source": [
        "wifi = []\n",
        "kitchen = []\n",
        "air_conditioning = []\n",
        "pool = []\n",
        "\n",
        "for amm in ammenities:\n",
        "    if(amm is None):\n",
        "        wifi.append(None)\n",
        "        kitchen.append(None)\n",
        "        air_conditioning.append(None)\n",
        "        pool.append(None)\n",
        "    else:\n",
        "        noWifi, noKitch, noAc, noPool = True, True ,True ,True\n",
        "        element = amm.split(\"·\")\n",
        "        for word in element:\n",
        "            word = word.strip()\n",
        "            if(word == 'Wifi'):\n",
        "                wifi.append(1)\n",
        "                noWifi = False\n",
        "            elif(word == 'Kitchen'):\n",
        "                kitchen.append(1)\n",
        "                noKitch = False\n",
        "            elif(word == 'Air conditioning'):\n",
        "                air_conditioning.append(1)\n",
        "                noAc = False\n",
        "            elif(word == 'Pool'):\n",
        "                pool.append(1)\n",
        "                noPool = False\n",
        "        if(noWifi):\n",
        "            wifi.append(0)\n",
        "        if(noKitch):\n",
        "            kitchen.append(0)\n",
        "        if(noAc):\n",
        "            air_conditioning.append(0)\n",
        "        if(noPool):\n",
        "            pool.append(0)"
      ],
      "execution_count": 16,
      "outputs": []
    },
    {
      "cell_type": "markdown",
      "metadata": {
        "id": "R_JsTFusdtF5"
      },
      "source": [
        "Saving as pandas dataframe"
      ]
    },
    {
      "cell_type": "code",
      "metadata": {
        "colab": {
          "base_uri": "https://localhost:8080/",
          "height": 289
        },
        "id": "Lf7mX1gsdqn8",
        "outputId": "f55e6492-5b3b-4d58-d90c-245e0c21b056"
      },
      "source": [
        "df = pd.DataFrame(data = {\"title\": title, \n",
        "                              \"subtitle\": subtitle, \n",
        "                              \"rating\": rating,\n",
        "                              \"reviews\": reviews,\n",
        "                              \"price_per_night\": price_per_night,\n",
        "                              \"total_price\": total_price,\n",
        "                              \"guests\": guests,\n",
        "                              \"bedrooms\": bedrooms,\n",
        "                              \"baths\": baths,\n",
        "                              \"wifi\": wifi,\n",
        "                              \"kitchen\": kitchen,\n",
        "                              \"air_conditioning\": air_conditioning,\n",
        "                              \"pool\": pool})\n",
        "df.head()"
      ],
      "execution_count": 17,
      "outputs": [
        {
          "output_type": "execute_result",
          "data": {
            "text/html": [
              "<div>\n",
              "<style scoped>\n",
              "    .dataframe tbody tr th:only-of-type {\n",
              "        vertical-align: middle;\n",
              "    }\n",
              "\n",
              "    .dataframe tbody tr th {\n",
              "        vertical-align: top;\n",
              "    }\n",
              "\n",
              "    .dataframe thead th {\n",
              "        text-align: right;\n",
              "    }\n",
              "</style>\n",
              "<table border=\"1\" class=\"dataframe\">\n",
              "  <thead>\n",
              "    <tr style=\"text-align: right;\">\n",
              "      <th></th>\n",
              "      <th>title</th>\n",
              "      <th>subtitle</th>\n",
              "      <th>rating</th>\n",
              "      <th>reviews</th>\n",
              "      <th>price_per_night</th>\n",
              "      <th>total_price</th>\n",
              "      <th>guests</th>\n",
              "      <th>bedrooms</th>\n",
              "      <th>baths</th>\n",
              "      <th>wifi</th>\n",
              "      <th>kitchen</th>\n",
              "      <th>air_conditioning</th>\n",
              "      <th>pool</th>\n",
              "    </tr>\n",
              "  </thead>\n",
              "  <tbody>\n",
              "    <tr>\n",
              "      <th>0</th>\n",
              "      <td>Beautiful villa on the edge of BLUE LAGOON</td>\n",
              "      <td>Entire villa in Nusa Ceningan</td>\n",
              "      <td>4.82</td>\n",
              "      <td>310.0</td>\n",
              "      <td>92</td>\n",
              "      <td>350</td>\n",
              "      <td>2</td>\n",
              "      <td>1.0</td>\n",
              "      <td>1.0</td>\n",
              "      <td>1.0</td>\n",
              "      <td>0.0</td>\n",
              "      <td>1.0</td>\n",
              "      <td>1.0</td>\n",
              "    </tr>\n",
              "    <tr>\n",
              "      <th>1</th>\n",
              "      <td>Bali Bustle Co-Living and Co-working space V</td>\n",
              "      <td>Hotel room in Kuta</td>\n",
              "      <td>4.57</td>\n",
              "      <td>7.0</td>\n",
              "      <td>25</td>\n",
              "      <td>153</td>\n",
              "      <td>2</td>\n",
              "      <td>NaN</td>\n",
              "      <td>1.0</td>\n",
              "      <td>1.0</td>\n",
              "      <td>1.0</td>\n",
              "      <td>1.0</td>\n",
              "      <td>1.0</td>\n",
              "    </tr>\n",
              "    <tr>\n",
              "      <th>2</th>\n",
              "      <td>Cozy Bobo Hostel and Working Space</td>\n",
              "      <td>Hotel room in Bali</td>\n",
              "      <td>4.80</td>\n",
              "      <td>45.0</td>\n",
              "      <td>9</td>\n",
              "      <td>34</td>\n",
              "      <td>1</td>\n",
              "      <td>1.0</td>\n",
              "      <td>0.5</td>\n",
              "      <td>1.0</td>\n",
              "      <td>1.0</td>\n",
              "      <td>1.0</td>\n",
              "      <td>0.0</td>\n",
              "    </tr>\n",
              "    <tr>\n",
              "      <th>3</th>\n",
              "      <td>Seminyak Beach Private Villa 3 Rooms W/ Pool. ...</td>\n",
              "      <td>Entire villa in Kuta</td>\n",
              "      <td>4.95</td>\n",
              "      <td>42.0</td>\n",
              "      <td>97</td>\n",
              "      <td>555</td>\n",
              "      <td>8</td>\n",
              "      <td>3.0</td>\n",
              "      <td>3.0</td>\n",
              "      <td>1.0</td>\n",
              "      <td>1.0</td>\n",
              "      <td>1.0</td>\n",
              "      <td>1.0</td>\n",
              "    </tr>\n",
              "    <tr>\n",
              "      <th>4</th>\n",
              "      <td>Lovely 3 bedroom home directly on Bingin Beach</td>\n",
              "      <td>Entire villa in Bingin Beach</td>\n",
              "      <td>4.92</td>\n",
              "      <td>88.0</td>\n",
              "      <td>550</td>\n",
              "      <td>3138</td>\n",
              "      <td>6</td>\n",
              "      <td>3.0</td>\n",
              "      <td>1.5</td>\n",
              "      <td>1.0</td>\n",
              "      <td>1.0</td>\n",
              "      <td>1.0</td>\n",
              "      <td>0.0</td>\n",
              "    </tr>\n",
              "  </tbody>\n",
              "</table>\n",
              "</div>"
            ],
            "text/plain": [
              "                                               title  ... pool\n",
              "0         Beautiful villa on the edge of BLUE LAGOON  ...  1.0\n",
              "1       Bali Bustle Co-Living and Co-working space V  ...  1.0\n",
              "2                 Cozy Bobo Hostel and Working Space  ...  0.0\n",
              "3  Seminyak Beach Private Villa 3 Rooms W/ Pool. ...  ...  1.0\n",
              "4     Lovely 3 bedroom home directly on Bingin Beach  ...  0.0\n",
              "\n",
              "[5 rows x 13 columns]"
            ]
          },
          "metadata": {
            "tags": []
          },
          "execution_count": 17
        }
      ]
    },
    {
      "cell_type": "markdown",
      "metadata": {
        "id": "UIfJF3ICdxY6"
      },
      "source": [
        "Exporting to csv file"
      ]
    },
    {
      "cell_type": "code",
      "metadata": {
        "id": "xx2VsoVPdzQD"
      },
      "source": [
        "df.to_csv(\"airbnb.csv\")"
      ],
      "execution_count": 18,
      "outputs": []
    }
  ]
}