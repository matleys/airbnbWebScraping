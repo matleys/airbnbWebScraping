{
 "cells": [
  {
   "cell_type": "markdown",
   "metadata": {
    "id": "ODkbjKJtcXJ-"
   },
   "source": [
    "# **Airbnb Web Scraping**"
   ]
  },
  {
   "cell_type": "markdown",
   "metadata": {
    "id": "O6rZYSdncmDR"
   },
   "source": [
    "**Imports and initializations**"
   ]
  },
  {
   "cell_type": "code",
   "execution_count": 1,
   "metadata": {
    "id": "o1LYEvbuc1tM"
   },
   "outputs": [],
   "source": [
    "import requests as rq\n",
    "import bs4\n",
    "import pandas as pd"
   ]
  },
  {
   "cell_type": "code",
   "execution_count": 2,
   "metadata": {},
   "outputs": [],
   "source": [
    "import dateutil.parser as parser\n",
    "CHECKINDATE = \"January 3, 2021\"\n",
    "CHECKOUTDATE = \"5 JAN 2021\"\n",
    "PLACE = \"New York\"\n",
    "\n",
    "checkin = parser.parse(CHECKINDATE).strftime(\"%Y-%m-%d\")\n",
    "checkout = parser.parse(CHECKOUTDATE).strftime(\"%Y-%m-%d\")"
   ]
  },
  {
   "cell_type": "code",
   "execution_count": 3,
   "metadata": {
    "id": "YOGadJpccTp0"
   },
   "outputs": [],
   "source": [
    "url = \"https://www.airbnb.com/s/\"+ PLACE +\"/homes?tab_id=home_tab&refinement_paths%5B%5D=%2Fhomes&query=\"+ PLACE +\"&place_id=ChIJoQ8Q6NNB0S0RkOYkS7EPkSQ&checkin=\"+ checkin +\"&checkout=\"+ checkout +\"&source=structured_search_input_header&search_type=autocomplete_click\""
   ]
  },
  {
   "cell_type": "markdown",
   "metadata": {
    "id": "UceMUbyoc7Wy"
   },
   "source": [
    "Targeted get functions"
   ]
  },
  {
   "cell_type": "code",
   "execution_count": 4,
   "metadata": {
    "id": "IwgeWaJec62_"
   },
   "outputs": [],
   "source": [
    "def get_page(url):\n",
    "    response = rq.get(url).text\n",
    "    return bs4.BeautifulSoup(response, 'html.parser')"
   ]
  },
  {
   "cell_type": "code",
   "execution_count": 5,
   "metadata": {
    "id": "_fyZP3wIdBs7"
   },
   "outputs": [],
   "source": [
    "def get_listings(soup):\n",
    "    listingsType = \"div\"\n",
    "    listingsClass = \"itemListElement\"\n",
    "    return soup.find_all(listingsType, {\"itemprop\": listingsClass})"
   ]
  },
  {
   "cell_type": "code",
   "execution_count": 6,
   "metadata": {
    "id": "BO6DM55-dF1c"
   },
   "outputs": [],
   "source": [
    "def get_listing_title(listing):\n",
    "    titleType = \"div\"\n",
    "    titleClass = \"_bzh5lkq\"\n",
    "    if(listing.find(titleType, {\"class\": titleClass}) == None):\n",
    "        return None\n",
    "    else:\n",
    "        return listing.find(titleType, {\"class\": titleClass}).text"
   ]
  },
  {
   "cell_type": "code",
   "execution_count": 7,
   "metadata": {
    "id": "EHynmwT0dH7Y"
   },
   "outputs": [],
   "source": [
    "def get_listing_subtitle(listing):\n",
    "    subtitleType = \"div\"\n",
    "    subtitleClass = \"_167qordg\"\n",
    "    if(listing.find(subtitleType, {\"class\": subtitleClass}) == None):\n",
    "        return None\n",
    "    else:\n",
    "        return listing.find(subtitleType, {\"class\": subtitleClass}).text"
   ]
  },
  {
   "cell_type": "code",
   "execution_count": 8,
   "metadata": {
    "id": "gxGaBiG6dKSW"
   },
   "outputs": [],
   "source": [
    "def get_listing_info(listing):\n",
    "    infoType = \"div\"\n",
    "    infoClass = \"_kqh46o\"\n",
    "    try:\n",
    "        all_info = listing.find_all(infoType, {\"class\": infoClass})\n",
    "        for info in all_info:\n",
    "            if(\"guest\" in info.text):\n",
    "                return info.text\n",
    "        return None\n",
    "    except:\n",
    "        return None"
   ]
  },
  {
   "cell_type": "code",
   "execution_count": 9,
   "metadata": {
    "id": "EoGM0DyFdLBL"
   },
   "outputs": [],
   "source": [
    "def get_listing_ammenities(listing):\n",
    "    ammType = \"div\"\n",
    "    ammClass = \"_kqh46o\"\n",
    "    try:\n",
    "        all_info = listing.find_all(ammType, {\"class\": ammClass})\n",
    "        if(len(all_info) > 1):\n",
    "            return all_info[1].text\n",
    "        else:\n",
    "            return None\n",
    "    except:\n",
    "        return None"
   ]
  },
  {
   "cell_type": "code",
   "execution_count": 10,
   "metadata": {
    "id": "ZA5i952DdNoc"
   },
   "outputs": [],
   "source": [
    "def get_listing_rating(listing):\n",
    "    reviewType = \"span\"\n",
    "    reviewClass = \"_krjbj\"\n",
    "    try:\n",
    "        all_review_info = listing.find_all(reviewType, {\"class\": reviewClass})\n",
    "        for info in all_review_info:\n",
    "            if(\"Rating\" in info.text):\n",
    "                return float(info.text.split(\" \")[1])\n",
    "        return None\n",
    "    except:\n",
    "        return None"
   ]
  },
  {
   "cell_type": "code",
   "execution_count": 11,
   "metadata": {
    "id": "EmeGB_a3dPv2"
   },
   "outputs": [],
   "source": [
    "def get_listing_reviews(listing):\n",
    "    reviewType = \"span\"\n",
    "    reviewClass = \"_krjbj\"\n",
    "    try:\n",
    "        all_review_info = listing.find_all(reviewType, {\"class\": reviewClass})\n",
    "        for info in all_review_info:\n",
    "            if(\" review\" in info.text):\n",
    "                return int(info.text.split(\" \")[0])\n",
    "        return None\n",
    "    except:\n",
    "        return None"
   ]
  },
  {
   "cell_type": "code",
   "execution_count": 12,
   "metadata": {
    "id": "zd-RErv7dR8c"
   },
   "outputs": [],
   "source": [
    "def get_listing_price_per_night(listing):\n",
    "    priceType = \"div\"\n",
    "    priceClass = \"_1fwiw8gv\"  \n",
    "    try:\n",
    "        all_price_info = listing.find_all(priceType, {\"class\": priceClass})\n",
    "        for info in all_price_info:\n",
    "            infoStr = info.text\n",
    "            if(\"Previous\" in infoStr):\n",
    "                return infoStr.split(\"$\")[1].split(\"D\")[0].replace(\",\",\"\")\n",
    "            elif(\"Price\" in infoStr):\n",
    "                return infoStr.split(\"$\")[1].split(\" \")[0].replace(\",\",\"\")\n",
    "        return None\n",
    "    except:\n",
    "        return None"
   ]
  },
  {
   "cell_type": "code",
   "execution_count": 13,
   "metadata": {
    "id": "S7J2N2RcdUFx"
   },
   "outputs": [],
   "source": [
    "def get_listing_total_price(listing):\n",
    "    totalType = \"button\"\n",
    "    totalClass = \"_ebe4pze\"\n",
    "    if(listing.find(totalType, {\"class\": totalClass}) == None):\n",
    "        return None\n",
    "    else:\n",
    "        return listing.find(totalType, {\"class\": totalClass}).text.split(\" \")[0].replace(\"$\",\"\").replace(\",\",\"\")"
   ]
  },
  {
   "cell_type": "code",
   "execution_count": 14,
   "metadata": {
    "id": "kihdk0s2dWQV"
   },
   "outputs": [],
   "source": [
    "base_url = \"https://airbnb.com\"\n",
    "\n",
    "def find_next_page(page):\n",
    "    try:\n",
    "        return base_url + page.find(\"a\", {\"aria-label\": \"Next\"})['href']\n",
    "    except:\n",
    "        return None"
   ]
  },
  {
   "cell_type": "markdown",
   "metadata": {
    "id": "zJmCogiZddVL"
   },
   "source": [
    "Retrieving info with get functions"
   ]
  },
  {
   "cell_type": "code",
   "execution_count": 15,
   "metadata": {
    "id": "x_--PrIcdgS0"
   },
   "outputs": [],
   "source": [
    "title = []\n",
    "subtitle = []\n",
    "info = []\n",
    "ammenities = []\n",
    "rating = []\n",
    "reviews = []\n",
    "price_per_night = []\n",
    "total_price = []\n",
    "\n",
    "page = get_page(url)\n",
    "morePages = True\n",
    "\n",
    "while(morePages):\n",
    "    listings = get_listings(page)\n",
    "    \n",
    "    for listing in listings:\n",
    "        title.append(get_listing_title(listing))\n",
    "        subtitle.append(get_listing_subtitle(listing))\n",
    "        info.append(get_listing_info(listing))\n",
    "        ammenities.append(get_listing_ammenities(listing))\n",
    "        rating.append(get_listing_rating(listing))\n",
    "        reviews.append(get_listing_reviews(listing))\n",
    "        price_per_night.append(get_listing_price_per_night(listing))\n",
    "        total_price.append(get_listing_total_price(listing))\n",
    "    \n",
    "    next_url = find_next_page(page)\n",
    "\n",
    "    if(next_url is None):\n",
    "        morePages = False\n",
    "    else:\n",
    "        page = get_page(next_url)"
   ]
  },
  {
   "cell_type": "markdown",
   "metadata": {
    "id": "RWb7tjxydkvK"
   },
   "source": [
    "Getting more granular data"
   ]
  },
  {
   "cell_type": "code",
   "execution_count": 16,
   "metadata": {
    "id": "t3IDde_ydhRB"
   },
   "outputs": [],
   "source": [
    "guests = []\n",
    "bedrooms = []\n",
    "baths = []\n",
    "\n",
    "for i in info:\n",
    "    if(i is None):\n",
    "        guests.append(None)\n",
    "        bedrooms.append(None)\n",
    "        baths.append(None)\n",
    "    else:\n",
    "        element = i.split(\"·\")\n",
    "        noGuest, noBedroom, noBath = True, True, True\n",
    "        for word in element:\n",
    "            word = word.strip()\n",
    "            if(\"guest\" in word):\n",
    "                guests.append(int(word.split(\" \")[0]))\n",
    "                noGuest = False\n",
    "            elif(\"bedroom\" in word):\n",
    "                bedrooms.append(int(word.split(\" \")[0])) \n",
    "                noBedroom = False\n",
    "            elif(\"bath\" in word):\n",
    "                try:\n",
    "                    baths.append(float(word.split(\" \")[0]))\n",
    "                    noBath = False\n",
    "                except:\n",
    "                    baths.append(0.5)\n",
    "                    noBath = False\n",
    "        if(noGuest):\n",
    "            guests.append(None)\n",
    "        if(noBedroom):\n",
    "            bedrooms.append(None)\n",
    "        if(noBath):\n",
    "            baths.append(None)"
   ]
  },
  {
   "cell_type": "code",
   "execution_count": 17,
   "metadata": {
    "id": "0AnnGDGydnE8"
   },
   "outputs": [],
   "source": [
    "wifi = []\n",
    "kitchen = []\n",
    "air_conditioning = []\n",
    "pool = []\n",
    "\n",
    "for amm in ammenities:\n",
    "    if(amm is None):\n",
    "        wifi.append(None)\n",
    "        kitchen.append(None)\n",
    "        air_conditioning.append(None)\n",
    "        pool.append(None)\n",
    "    else:\n",
    "        noWifi, noKitch, noAc, noPool = True, True ,True ,True\n",
    "        element = amm.split(\"·\")\n",
    "        for word in element:\n",
    "            word = word.strip()\n",
    "            if(word == 'Wifi'):\n",
    "                wifi.append(1)\n",
    "                noWifi = False\n",
    "            elif(word == 'Kitchen'):\n",
    "                kitchen.append(1)\n",
    "                noKitch = False\n",
    "            elif(word == 'Air conditioning'):\n",
    "                air_conditioning.append(1)\n",
    "                noAc = False\n",
    "            elif(word == 'Pool'):\n",
    "                pool.append(1)\n",
    "                noPool = False\n",
    "        if(noWifi):\n",
    "            wifi.append(0)\n",
    "        if(noKitch):\n",
    "            kitchen.append(0)\n",
    "        if(noAc):\n",
    "            air_conditioning.append(0)\n",
    "        if(noPool):\n",
    "            pool.append(0)"
   ]
  },
  {
   "cell_type": "markdown",
   "metadata": {
    "id": "R_JsTFusdtF5"
   },
   "source": [
    "Saving as pandas dataframe"
   ]
  },
  {
   "cell_type": "code",
   "execution_count": 18,
   "metadata": {
    "colab": {
     "base_uri": "https://localhost:8080/",
     "height": 289
    },
    "id": "Lf7mX1gsdqn8",
    "outputId": "f55e6492-5b3b-4d58-d90c-245e0c21b056"
   },
   "outputs": [
    {
     "data": {
      "text/html": [
       "<div>\n",
       "<style scoped>\n",
       "    .dataframe tbody tr th:only-of-type {\n",
       "        vertical-align: middle;\n",
       "    }\n",
       "\n",
       "    .dataframe tbody tr th {\n",
       "        vertical-align: top;\n",
       "    }\n",
       "\n",
       "    .dataframe thead th {\n",
       "        text-align: right;\n",
       "    }\n",
       "</style>\n",
       "<table border=\"1\" class=\"dataframe\">\n",
       "  <thead>\n",
       "    <tr style=\"text-align: right;\">\n",
       "      <th></th>\n",
       "      <th>title</th>\n",
       "      <th>subtitle</th>\n",
       "      <th>rating</th>\n",
       "      <th>reviews</th>\n",
       "      <th>price_per_night</th>\n",
       "      <th>total_price</th>\n",
       "      <th>guests</th>\n",
       "      <th>bedrooms</th>\n",
       "      <th>baths</th>\n",
       "      <th>wifi</th>\n",
       "      <th>kitchen</th>\n",
       "      <th>air_conditioning</th>\n",
       "      <th>pool</th>\n",
       "    </tr>\n",
       "  </thead>\n",
       "  <tbody>\n",
       "    <tr>\n",
       "      <th>0</th>\n",
       "      <td>City King</td>\n",
       "      <td>Hotel room in Manhattan</td>\n",
       "      <td>4.58</td>\n",
       "      <td>475.0</td>\n",
       "      <td>83</td>\n",
       "      <td>165</td>\n",
       "      <td>2.0</td>\n",
       "      <td>1.0</td>\n",
       "      <td>1.0</td>\n",
       "      <td>1</td>\n",
       "      <td>0</td>\n",
       "      <td>1</td>\n",
       "      <td>0</td>\n",
       "    </tr>\n",
       "    <tr>\n",
       "      <th>1</th>\n",
       "      <td>King Room City</td>\n",
       "      <td>Hotel room in Midtown</td>\n",
       "      <td>4.53</td>\n",
       "      <td>434.0</td>\n",
       "      <td>94</td>\n",
       "      <td>187</td>\n",
       "      <td>2.0</td>\n",
       "      <td>1.0</td>\n",
       "      <td>1.0</td>\n",
       "      <td>1</td>\n",
       "      <td>0</td>\n",
       "      <td>1</td>\n",
       "      <td>0</td>\n",
       "    </tr>\n",
       "    <tr>\n",
       "      <th>2</th>\n",
       "      <td>Private Apt with 2 beds at Gramercy park</td>\n",
       "      <td>Entire apartment in Manhattan</td>\n",
       "      <td>5.00</td>\n",
       "      <td>3.0</td>\n",
       "      <td>75</td>\n",
       "      <td>125</td>\n",
       "      <td>2.0</td>\n",
       "      <td>NaN</td>\n",
       "      <td>1.0</td>\n",
       "      <td>1</td>\n",
       "      <td>0</td>\n",
       "      <td>1</td>\n",
       "      <td>0</td>\n",
       "    </tr>\n",
       "    <tr>\n",
       "      <th>3</th>\n",
       "      <td>Spacious Manhattan Room Near Times Square</td>\n",
       "      <td>Hotel room in Midtown</td>\n",
       "      <td>4.26</td>\n",
       "      <td>73.0</td>\n",
       "      <td>125</td>\n",
       "      <td>187</td>\n",
       "      <td>3.0</td>\n",
       "      <td>1.0</td>\n",
       "      <td>1.0</td>\n",
       "      <td>1</td>\n",
       "      <td>0</td>\n",
       "      <td>1</td>\n",
       "      <td>0</td>\n",
       "    </tr>\n",
       "    <tr>\n",
       "      <th>4</th>\n",
       "      <td>Freehand New York - Artist Room</td>\n",
       "      <td>Hotel room in Manhattan</td>\n",
       "      <td>4.36</td>\n",
       "      <td>156.0</td>\n",
       "      <td>111</td>\n",
       "      <td>190</td>\n",
       "      <td>1.0</td>\n",
       "      <td>1.0</td>\n",
       "      <td>1.0</td>\n",
       "      <td>1</td>\n",
       "      <td>0</td>\n",
       "      <td>0</td>\n",
       "      <td>0</td>\n",
       "    </tr>\n",
       "    <tr>\n",
       "      <th>...</th>\n",
       "      <td>...</td>\n",
       "      <td>...</td>\n",
       "      <td>...</td>\n",
       "      <td>...</td>\n",
       "      <td>...</td>\n",
       "      <td>...</td>\n",
       "      <td>...</td>\n",
       "      <td>...</td>\n",
       "      <td>...</td>\n",
       "      <td>...</td>\n",
       "      <td>...</td>\n",
       "      <td>...</td>\n",
       "      <td>...</td>\n",
       "    </tr>\n",
       "    <tr>\n",
       "      <th>295</th>\n",
       "      <td>The Hamilton in New York</td>\n",
       "      <td>Private room in Manhattan</td>\n",
       "      <td>NaN</td>\n",
       "      <td>NaN</td>\n",
       "      <td>111</td>\n",
       "      <td>221</td>\n",
       "      <td>3.0</td>\n",
       "      <td>1.0</td>\n",
       "      <td>1.0</td>\n",
       "      <td>1</td>\n",
       "      <td>0</td>\n",
       "      <td>1</td>\n",
       "      <td>0</td>\n",
       "    </tr>\n",
       "    <tr>\n",
       "      <th>296</th>\n",
       "      <td>East Village, private room with free breakfast</td>\n",
       "      <td>Private room in East Village</td>\n",
       "      <td>4.98</td>\n",
       "      <td>43.0</td>\n",
       "      <td>139</td>\n",
       "      <td>150</td>\n",
       "      <td>2.0</td>\n",
       "      <td>1.0</td>\n",
       "      <td>2.0</td>\n",
       "      <td>1</td>\n",
       "      <td>1</td>\n",
       "      <td>1</td>\n",
       "      <td>0</td>\n",
       "    </tr>\n",
       "    <tr>\n",
       "      <th>297</th>\n",
       "      <td>POSTED UP ON PUTNAM</td>\n",
       "      <td>Private room in Bushwick</td>\n",
       "      <td>4.85</td>\n",
       "      <td>78.0</td>\n",
       "      <td>69</td>\n",
       "      <td>138</td>\n",
       "      <td>2.0</td>\n",
       "      <td>1.0</td>\n",
       "      <td>1.0</td>\n",
       "      <td>1</td>\n",
       "      <td>1</td>\n",
       "      <td>1</td>\n",
       "      <td>0</td>\n",
       "    </tr>\n",
       "    <tr>\n",
       "      <th>298</th>\n",
       "      <td>Sweet Home at Washington Heights</td>\n",
       "      <td>Entire apartment in Washington Heights</td>\n",
       "      <td>4.59</td>\n",
       "      <td>160.0</td>\n",
       "      <td>91</td>\n",
       "      <td>181</td>\n",
       "      <td>3.0</td>\n",
       "      <td>1.0</td>\n",
       "      <td>1.0</td>\n",
       "      <td>1</td>\n",
       "      <td>1</td>\n",
       "      <td>1</td>\n",
       "      <td>0</td>\n",
       "    </tr>\n",
       "    <tr>\n",
       "      <th>299</th>\n",
       "      <td>Amazing apartment Times Square</td>\n",
       "      <td>Entire apartment in Hell's Kitchen</td>\n",
       "      <td>4.91</td>\n",
       "      <td>24.0</td>\n",
       "      <td>412</td>\n",
       "      <td>703</td>\n",
       "      <td>2.0</td>\n",
       "      <td>1.0</td>\n",
       "      <td>1.0</td>\n",
       "      <td>1</td>\n",
       "      <td>1</td>\n",
       "      <td>1</td>\n",
       "      <td>0</td>\n",
       "    </tr>\n",
       "  </tbody>\n",
       "</table>\n",
       "<p>300 rows × 13 columns</p>\n",
       "</div>"
      ],
      "text/plain": [
       "                                              title  \\\n",
       "0                                         City King   \n",
       "1                                    King Room City   \n",
       "2          Private Apt with 2 beds at Gramercy park   \n",
       "3         Spacious Manhattan Room Near Times Square   \n",
       "4                   Freehand New York - Artist Room   \n",
       "..                                              ...   \n",
       "295                        The Hamilton in New York   \n",
       "296  East Village, private room with free breakfast   \n",
       "297                             POSTED UP ON PUTNAM   \n",
       "298                Sweet Home at Washington Heights   \n",
       "299                  Amazing apartment Times Square   \n",
       "\n",
       "                                   subtitle  rating  reviews price_per_night  \\\n",
       "0                   Hotel room in Manhattan    4.58    475.0              83   \n",
       "1                     Hotel room in Midtown    4.53    434.0              94   \n",
       "2             Entire apartment in Manhattan    5.00      3.0              75   \n",
       "3                     Hotel room in Midtown    4.26     73.0             125   \n",
       "4                   Hotel room in Manhattan    4.36    156.0             111   \n",
       "..                                      ...     ...      ...             ...   \n",
       "295               Private room in Manhattan     NaN      NaN             111   \n",
       "296            Private room in East Village    4.98     43.0             139   \n",
       "297                Private room in Bushwick    4.85     78.0              69   \n",
       "298  Entire apartment in Washington Heights    4.59    160.0              91   \n",
       "299      Entire apartment in Hell's Kitchen    4.91     24.0             412   \n",
       "\n",
       "    total_price  guests  bedrooms  baths  wifi  kitchen  air_conditioning  \\\n",
       "0           165     2.0       1.0    1.0     1        0                 1   \n",
       "1           187     2.0       1.0    1.0     1        0                 1   \n",
       "2           125     2.0       NaN    1.0     1        0                 1   \n",
       "3           187     3.0       1.0    1.0     1        0                 1   \n",
       "4           190     1.0       1.0    1.0     1        0                 0   \n",
       "..          ...     ...       ...    ...   ...      ...               ...   \n",
       "295         221     3.0       1.0    1.0     1        0                 1   \n",
       "296         150     2.0       1.0    2.0     1        1                 1   \n",
       "297         138     2.0       1.0    1.0     1        1                 1   \n",
       "298         181     3.0       1.0    1.0     1        1                 1   \n",
       "299         703     2.0       1.0    1.0     1        1                 1   \n",
       "\n",
       "     pool  \n",
       "0       0  \n",
       "1       0  \n",
       "2       0  \n",
       "3       0  \n",
       "4       0  \n",
       "..    ...  \n",
       "295     0  \n",
       "296     0  \n",
       "297     0  \n",
       "298     0  \n",
       "299     0  \n",
       "\n",
       "[300 rows x 13 columns]"
      ]
     },
     "execution_count": 18,
     "metadata": {},
     "output_type": "execute_result"
    }
   ],
   "source": [
    "df = pd.DataFrame(data = {\"title\": title, \n",
    "                              \"subtitle\": subtitle, \n",
    "                              \"rating\": rating,\n",
    "                              \"reviews\": reviews,\n",
    "                              \"price_per_night\": price_per_night,\n",
    "                              \"total_price\": total_price,\n",
    "                              \"guests\": guests,\n",
    "                              \"bedrooms\": bedrooms,\n",
    "                              \"baths\": baths,\n",
    "                              \"wifi\": wifi,\n",
    "                              \"kitchen\": kitchen,\n",
    "                              \"air_conditioning\": air_conditioning,\n",
    "                              \"pool\": pool})\n",
    "df"
   ]
  },
  {
   "cell_type": "markdown",
   "metadata": {
    "id": "UIfJF3ICdxY6"
   },
   "source": [
    "Exporting to csv file"
   ]
  },
  {
   "cell_type": "code",
   "execution_count": 19,
   "metadata": {
    "id": "xx2VsoVPdzQD"
   },
   "outputs": [],
   "source": [
    "df.to_csv(\"airbnb.csv\")"
   ]
  }
 ],
 "metadata": {
  "colab": {
   "name": "Untitled7.ipynb",
   "provenance": []
  },
  "kernelspec": {
   "display_name": "Python 3",
   "language": "python",
   "name": "python3"
  },
  "language_info": {
   "codemirror_mode": {
    "name": "ipython",
    "version": 3
   },
   "file_extension": ".py",
   "mimetype": "text/x-python",
   "name": "python",
   "nbconvert_exporter": "python",
   "pygments_lexer": "ipython3",
   "version": "3.8.3"
  }
 },
 "nbformat": 4,
 "nbformat_minor": 1
}
